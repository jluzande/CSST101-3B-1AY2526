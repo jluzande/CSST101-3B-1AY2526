{
  "cells": [
    {
      "cell_type": "markdown",
      "metadata": {
        "id": "view-in-github",
        "colab_type": "text"
      },
      "source": [
        "<a href=\"https://colab.research.google.com/github/jluzande/CSST101-3B-1AY2526/blob/main/Welcome_To_Colab.ipynb\" target=\"_parent\"><img src=\"https://colab.research.google.com/assets/colab-badge.svg\" alt=\"Open In Colab\"/></a>"
      ]
    },
    {
      "cell_type": "markdown",
      "source": [
        "# Import needed libraries"
      ],
      "metadata": {
        "id": "V69EE6fZtIF6"
      }
    },
    {
      "cell_type": "code",
      "source": [
        "import csv\n",
        "from datetime import datetime"
      ],
      "metadata": {
        "id": "CFcaBA_rtOLa"
      },
      "execution_count": 40,
      "outputs": []
    },
    {
      "cell_type": "markdown",
      "source": [
        "Logic Functions"
      ],
      "metadata": {
        "id": "vERYD3ImtU6S"
      }
    },
    {
      "cell_type": "code",
      "source": [
        "def impl(P, Q):\n",
        "  return (not P) or Q # Implication (P -> Q)\n",
        "\n",
        "def tf(b: bool) -> str:\n",
        "  return \"T\" if b else \"F\"\n"
      ],
      "metadata": {
        "id": "4LdTiEIPtVh8"
      },
      "execution_count": 41,
      "outputs": []
    },
    {
      "cell_type": "markdown",
      "source": [
        "Logger"
      ],
      "metadata": {
        "id": "9rMntDK0th9S"
      }
    },
    {
      "cell_type": "code",
      "source": [
        "def log_result(student_name, rule_name, result):\n",
        "  with open(\"logic_results.csv\", \"a\", newline=\"\") as file:\n",
        "    writer = csv.writer(file)\n",
        "    writer.writerow([datetime.now().strftime(\"%Y-%m-%d %H:%M:%S\"),\n",
        "                     student_name, rule_name, result])\n"
      ],
      "metadata": {
        "id": "DpC22M7Ktj2C"
      },
      "execution_count": 42,
      "outputs": []
    },
    {
      "cell_type": "markdown",
      "source": [
        "Rule 1: Attendance"
      ],
      "metadata": {
        "id": "Xu3OQy3Otoa6"
      }
    },
    {
      "cell_type": "code",
      "source": [
        "def attendance_rule(student_name):\n",
        "  print(\"\\n--- Attendance Rule Checker ---\")\n",
        "  late = input(\"Is the student late? (T/F): \").strip().upper() == \"T\"\n",
        "  excuse = input(\"Did the student bring an excuse letter? (T/F):\" ).strip().upper() == \"T\"\n",
        "\n",
        "  result = impl(late, excuse)\n",
        "  outcome = \"Satisfied ✔️\" if result else \"Violated ❌\"\n",
        "\n",
        "  print(f\"P = {tf(late)} (Late), Q = {tf(excuse)} (Excuse Letter)\")\n",
        "  print(\"Result:\", outcome)\n",
        "\n",
        "  log_result(student_name, \"Attendance Rule\", outcome)"
      ],
      "metadata": {
        "id": "fj-npk1ptqOi"
      },
      "execution_count": 43,
      "outputs": []
    },
    {
      "cell_type": "markdown",
      "source": [
        "Rule 2: Grading"
      ],
      "metadata": {
        "id": "7KOJ_IWdtw86"
      }
    },
    {
      "cell_type": "code",
      "source": [
        "def grading_rule(student_name):\n",
        "    print(\"\\n--- Grading Rule Checker ---\")\n",
        "    try:\n",
        "        grade = float(input(\"Enter student grade: \"))\n",
        "    except ValueError:\n",
        "        print(\"Invalid grade input.\")\n",
        "        return\n",
        "\n",
        "    P = grade < 75\n",
        "    Q = grade >= 75\n",
        "    result = impl(P, Q)\n",
        "    outcome = \"Satisfied ✅\" if result else \"Violated ❌\"\n",
        "\n",
        "    print(f\"P = ({tf(P)}) (grade < 75), Q = ({tf(Q)}) (student passes)\")\n",
        "    print(\"Result:\", outcome)\n",
        "\n",
        "    log_result(student_name, \"Grading Rule\", outcome)\n"
      ],
      "metadata": {
        "id": "vBcvUKAotzfS"
      },
      "execution_count": 44,
      "outputs": []
    },
    {
      "cell_type": "markdown",
      "source": [
        "Rule 3: Login System"
      ],
      "metadata": {
        "id": "4Hk7XzP3t10L"
      }
    },
    {
      "cell_type": "code",
      "source": [
        "def login_rule(student_name):\n",
        "  print(\"\\n--- Login Rule Checker ---\")\n",
        "  correct_password = \"admin123\"\n",
        "  attempt = input(\"Enter password: \")\n",
        "\n",
        "  P = (attempt != correct_password) #Password incorrect?\n",
        "  Q = (attempt == correct_password) #Access granted if correct\n",
        "  result = impl(P, Q)\n",
        "  outcome = \"Access granted ✔️\" if result else \"Access denied ❌\"\n",
        "\n",
        "  print(f\"P = {tf(P)} (Password Incorrect), Q = {tf(Q)} (Access Granted)\")\n",
        "  print(\"Result:\", outcome)\n",
        "\n",
        "  log_result(student_name, \"Login Rule\", outcome)\n"
      ],
      "metadata": {
        "id": "W4ZeWWvUucAy"
      },
      "execution_count": 45,
      "outputs": []
    },
    {
      "cell_type": "markdown",
      "source": [
        "Rule 4: Bonus Points"
      ],
      "metadata": {
        "id": "bDUL952pt8gj"
      }
    },
    {
      "cell_type": "code",
      "source": [
        "def bonus_rule(student_name):\n",
        "  print(f\"\\n--- {student_name}'s Bonus Point Eligibility Checker ---\")\n",
        "  try:\n",
        "    regular = input(\"Does the student have regular attendance? (T/F): \").strip().upper() == \"T\"\n",
        "  except (KeyboardInterrupt, EOFError):\n",
        "    return\n",
        "\n",
        "  P = regular\n",
        "  Q = regular\n",
        "  result = impl(P, Q)\n",
        "\n",
        "  outcome = \"Satisfied ✅\" if regular else \"Violated ❌\"\n",
        "\n",
        "\n",
        "  print(f\"P = {tf(regular)} (Regular Attendance), Q = {tf(regular)} (Eligible for Bonus)\")\n",
        "  print(\"Result:\", outcome)\n",
        "\n",
        "  log_result(student_name, \"Bonus Rule\", outcome)\n"
      ],
      "metadata": {
        "id": "cK5blzt6ufqi"
      },
      "execution_count": 46,
      "outputs": []
    },
    {
      "cell_type": "markdown",
      "source": [
        "Main Menu"
      ],
      "metadata": {
        "id": "XH4Kxv_nuGni"
      }
    },
    {
      "cell_type": "code",
      "source": [
        "# -----Main Menu-----\n",
        "def main():\n",
        "  print(\"--- University Logic Rules System ---\")\n",
        "  student_name = input(\"Enter student name: \").strip()\n",
        "\n",
        "  while True:\n",
        "    print(\"\\n\\n======== Main Menu ========\")\n",
        "    print(\"1) Attendance Rule Checker\")\n",
        "    print(\"2) Grading Rule Checker\")\n",
        "    print(\"3) Login Rule Checker\")\n",
        "    print(\"4) Bonus Points Checker\")\n",
        "    print(\"5) Exit\")\n",
        "\n",
        "    choice = input(\"Choose an option (1-5): \").strip()\n",
        "\n",
        "    if choice == \"1\":\n",
        "      attendance_rule(student_name)\n",
        "    elif choice == \"2\":\n",
        "      grading_rule(student_name)\n",
        "    elif choice == \"3\":\n",
        "      login_rule(student_name)\n",
        "    elif choice == \"4\":\n",
        "      bonus_rule(student_name)\n",
        "    elif choice == \"5\":\n",
        "      print(\"Exiting...\")\n",
        "      print(\"Results saved to logic_results.csv\")\n",
        "      break\n",
        "    else:\n",
        "      print(\"Invalid choice. Try again.\")\n",
        "\n",
        "if __name__ == \"__main__\":\n",
        "  # Create CSV with headers if not exists\n",
        "  with open(\"logic_results.csv\", \"a+\", newline=\"\") as file:\n",
        "    file.seek(0, 2)\n",
        "    if file.tell() == 0:\n",
        "      writer = csv.writer(file)\n",
        "      writer.writerow([\"Timestamp\", \"Student Name\", \"Rule\", \"Outcome\"])\n",
        "    main()"
      ],
      "metadata": {
        "colab": {
          "base_uri": "https://localhost:8080/",
          "height": 998
        },
        "id": "VU4DysVYuHHS",
        "outputId": "58ea61ac-e4b0-46c6-f603-773c91be3e6d"
      },
      "execution_count": 47,
      "outputs": [
        {
          "output_type": "stream",
          "name": "stdout",
          "text": [
            "--- University Logic Rules System ---\n",
            "Enter student name: Justin Angelo Luzande\n",
            "\n",
            "\n",
            "======== Main Menu ========\n",
            "1) Attendance Rule Checker\n",
            "2) Grading Rule Checker\n",
            "3) Login Rule Checker\n",
            "4) Bonus Points Checker\n",
            "5) Exit\n",
            "Choose an option (1-5): 1\n",
            "\n",
            "--- Attendance Rule Checker ---\n",
            "Is the student late? (T/F): T\n",
            "Did the student bring an excuse letter? (T/F):T\n",
            "P = T (Late), Q = T (Excuse Letter)\n",
            "Result: Satisfied ✔️\n",
            "\n",
            "\n",
            "======== Main Menu ========\n",
            "1) Attendance Rule Checker\n",
            "2) Grading Rule Checker\n",
            "3) Login Rule Checker\n",
            "4) Bonus Points Checker\n",
            "5) Exit\n",
            "Choose an option (1-5): 2\n",
            "\n",
            "--- Grading Rule Checker ---\n",
            "Enter student grade: 10\n",
            "P = (T) (grade < 75), Q = (F) (student passes)\n",
            "Result: Violated ❌\n",
            "\n",
            "\n",
            "======== Main Menu ========\n",
            "1) Attendance Rule Checker\n",
            "2) Grading Rule Checker\n",
            "3) Login Rule Checker\n",
            "4) Bonus Points Checker\n",
            "5) Exit\n"
          ]
        },
        {
          "output_type": "error",
          "ename": "KeyboardInterrupt",
          "evalue": "Interrupted by user",
          "traceback": [
            "\u001b[0;31m---------------------------------------------------------------------------\u001b[0m",
            "\u001b[0;31mKeyboardInterrupt\u001b[0m                         Traceback (most recent call last)",
            "\u001b[0;32m/tmp/ipython-input-3468803011.py\u001b[0m in \u001b[0;36m<cell line: 0>\u001b[0;34m()\u001b[0m\n\u001b[1;32m     36\u001b[0m       \u001b[0mwriter\u001b[0m \u001b[0;34m=\u001b[0m \u001b[0mcsv\u001b[0m\u001b[0;34m.\u001b[0m\u001b[0mwriter\u001b[0m\u001b[0;34m(\u001b[0m\u001b[0mfile\u001b[0m\u001b[0;34m)\u001b[0m\u001b[0;34m\u001b[0m\u001b[0;34m\u001b[0m\u001b[0m\n\u001b[1;32m     37\u001b[0m       \u001b[0mwriter\u001b[0m\u001b[0;34m.\u001b[0m\u001b[0mwriterow\u001b[0m\u001b[0;34m(\u001b[0m\u001b[0;34m[\u001b[0m\u001b[0;34m\"Timestamp\"\u001b[0m\u001b[0;34m,\u001b[0m \u001b[0;34m\"Student Name\"\u001b[0m\u001b[0;34m,\u001b[0m \u001b[0;34m\"Rule\"\u001b[0m\u001b[0;34m,\u001b[0m \u001b[0;34m\"Outcome\"\u001b[0m\u001b[0;34m]\u001b[0m\u001b[0;34m)\u001b[0m\u001b[0;34m\u001b[0m\u001b[0;34m\u001b[0m\u001b[0m\n\u001b[0;32m---> 38\u001b[0;31m     \u001b[0mmain\u001b[0m\u001b[0;34m(\u001b[0m\u001b[0;34m)\u001b[0m\u001b[0;34m\u001b[0m\u001b[0;34m\u001b[0m\u001b[0m\n\u001b[0m",
            "\u001b[0;32m/tmp/ipython-input-3468803011.py\u001b[0m in \u001b[0;36mmain\u001b[0;34m()\u001b[0m\n\u001b[1;32m     12\u001b[0m     \u001b[0mprint\u001b[0m\u001b[0;34m(\u001b[0m\u001b[0;34m\"5) Exit\"\u001b[0m\u001b[0;34m)\u001b[0m\u001b[0;34m\u001b[0m\u001b[0;34m\u001b[0m\u001b[0m\n\u001b[1;32m     13\u001b[0m \u001b[0;34m\u001b[0m\u001b[0m\n\u001b[0;32m---> 14\u001b[0;31m     \u001b[0mchoice\u001b[0m \u001b[0;34m=\u001b[0m \u001b[0minput\u001b[0m\u001b[0;34m(\u001b[0m\u001b[0;34m\"Choose an option (1-5): \"\u001b[0m\u001b[0;34m)\u001b[0m\u001b[0;34m.\u001b[0m\u001b[0mstrip\u001b[0m\u001b[0;34m(\u001b[0m\u001b[0;34m)\u001b[0m\u001b[0;34m\u001b[0m\u001b[0;34m\u001b[0m\u001b[0m\n\u001b[0m\u001b[1;32m     15\u001b[0m \u001b[0;34m\u001b[0m\u001b[0m\n\u001b[1;32m     16\u001b[0m     \u001b[0;32mif\u001b[0m \u001b[0mchoice\u001b[0m \u001b[0;34m==\u001b[0m \u001b[0;34m\"1\"\u001b[0m\u001b[0;34m:\u001b[0m\u001b[0;34m\u001b[0m\u001b[0;34m\u001b[0m\u001b[0m\n",
            "\u001b[0;32m/usr/local/lib/python3.12/dist-packages/ipykernel/kernelbase.py\u001b[0m in \u001b[0;36mraw_input\u001b[0;34m(self, prompt)\u001b[0m\n\u001b[1;32m   1175\u001b[0m                 \u001b[0;34m\"raw_input was called, but this frontend does not support input requests.\"\u001b[0m\u001b[0;34m\u001b[0m\u001b[0;34m\u001b[0m\u001b[0m\n\u001b[1;32m   1176\u001b[0m             )\n\u001b[0;32m-> 1177\u001b[0;31m         return self._input_request(\n\u001b[0m\u001b[1;32m   1178\u001b[0m             \u001b[0mstr\u001b[0m\u001b[0;34m(\u001b[0m\u001b[0mprompt\u001b[0m\u001b[0;34m)\u001b[0m\u001b[0;34m,\u001b[0m\u001b[0;34m\u001b[0m\u001b[0;34m\u001b[0m\u001b[0m\n\u001b[1;32m   1179\u001b[0m             \u001b[0mself\u001b[0m\u001b[0;34m.\u001b[0m\u001b[0m_parent_ident\u001b[0m\u001b[0;34m[\u001b[0m\u001b[0;34m\"shell\"\u001b[0m\u001b[0;34m]\u001b[0m\u001b[0;34m,\u001b[0m\u001b[0;34m\u001b[0m\u001b[0;34m\u001b[0m\u001b[0m\n",
            "\u001b[0;32m/usr/local/lib/python3.12/dist-packages/ipykernel/kernelbase.py\u001b[0m in \u001b[0;36m_input_request\u001b[0;34m(self, prompt, ident, parent, password)\u001b[0m\n\u001b[1;32m   1217\u001b[0m             \u001b[0;32mexcept\u001b[0m \u001b[0mKeyboardInterrupt\u001b[0m\u001b[0;34m:\u001b[0m\u001b[0;34m\u001b[0m\u001b[0;34m\u001b[0m\u001b[0m\n\u001b[1;32m   1218\u001b[0m                 \u001b[0;31m# re-raise KeyboardInterrupt, to truncate traceback\u001b[0m\u001b[0;34m\u001b[0m\u001b[0;34m\u001b[0m\u001b[0m\n\u001b[0;32m-> 1219\u001b[0;31m                 \u001b[0;32mraise\u001b[0m \u001b[0mKeyboardInterrupt\u001b[0m\u001b[0;34m(\u001b[0m\u001b[0;34m\"Interrupted by user\"\u001b[0m\u001b[0;34m)\u001b[0m \u001b[0;32mfrom\u001b[0m \u001b[0;32mNone\u001b[0m\u001b[0;34m\u001b[0m\u001b[0;34m\u001b[0m\u001b[0m\n\u001b[0m\u001b[1;32m   1220\u001b[0m             \u001b[0;32mexcept\u001b[0m \u001b[0mException\u001b[0m\u001b[0;34m:\u001b[0m\u001b[0;34m\u001b[0m\u001b[0;34m\u001b[0m\u001b[0m\n\u001b[1;32m   1221\u001b[0m                 \u001b[0mself\u001b[0m\u001b[0;34m.\u001b[0m\u001b[0mlog\u001b[0m\u001b[0;34m.\u001b[0m\u001b[0mwarning\u001b[0m\u001b[0;34m(\u001b[0m\u001b[0;34m\"Invalid Message:\"\u001b[0m\u001b[0;34m,\u001b[0m \u001b[0mexc_info\u001b[0m\u001b[0;34m=\u001b[0m\u001b[0;32mTrue\u001b[0m\u001b[0;34m)\u001b[0m\u001b[0;34m\u001b[0m\u001b[0;34m\u001b[0m\u001b[0m\n",
            "\u001b[0;31mKeyboardInterrupt\u001b[0m: Interrupted by user"
          ]
        }
      ]
    }
  ],
  "metadata": {
    "colab": {
      "name": "Welcome To Colab",
      "toc_visible": true,
      "provenance": [],
      "include_colab_link": true
    },
    "kernelspec": {
      "display_name": "Python 3",
      "name": "python3"
    }
  },
  "nbformat": 4,
  "nbformat_minor": 0
}